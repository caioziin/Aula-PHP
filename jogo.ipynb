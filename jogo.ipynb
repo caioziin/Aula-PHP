{
  "nbformat": 4,
  "nbformat_minor": 0,
  "metadata": {
    "colab": {
      "provenance": [],
      "authorship_tag": "ABX9TyNfoBvJg44aOfBcxkfqTr/m",
      "include_colab_link": true
    },
    "kernelspec": {
      "name": "python3",
      "display_name": "Python 3"
    },
    "language_info": {
      "name": "python"
    }
  },
  "cells": [
    {
      "cell_type": "markdown",
      "metadata": {
        "id": "view-in-github",
        "colab_type": "text"
      },
      "source": [
        "<a href=\"https://colab.research.google.com/github/caioziin/Aula-PHYTHON/blob/main/jogo.ipynb\" target=\"_parent\"><img src=\"https://colab.research.google.com/assets/colab-badge.svg\" alt=\"Open In Colab\"/></a>"
      ]
    },
    {
      "cell_type": "code",
      "execution_count": 7,
      "metadata": {
        "colab": {
          "base_uri": "https://localhost:8080/"
        },
        "id": "E5RXrePPwyff",
        "outputId": "3f1da295-c585-4be8-d916-6850719ce236"
      },
      "outputs": [
        {
          "output_type": "stream",
          "name": "stdout",
          "text": [
            "Chute um numero entre 0 e 100: 0\n",
            "chute um numero entre 0 e 100: 1\n",
            "chute um numero entre 0 e 100: 80\n",
            "chute um numero entre 0 e 80: 70\n",
            "chute um numero entre 0 e 70: 55\n",
            "chute um numero entre 0 e 55: 44\n",
            "chute um numero entre 0 e 44: 33\n",
            "chute um numero entre 0 e 33: 22\n",
            "chute um numero entre 0 e 22: 10\n",
            "chute um numero entre 0 e 10: 5\n",
            "acertou, mzrrrr!! 10 tentativas!\n"
          ]
        }
      ],
      "source": [
        "import random\n",
        "\n",
        "num = random.randrange(101)\n",
        "minimo = 0\n",
        "maximo = 100\n",
        "pitaco = int(input(f'Chute um numero entre {minimo} e {maximo}: '))\n",
        "cont = 1\n",
        "\n",
        "while(num != pitaco):\n",
        " if(pitaco > num):\n",
        "  maximo = pitaco \n",
        " else:\n",
        "   minino = pitaco \n",
        " pitaco  = int(input(f\"chute um numero entre {minimo} e {maximo}: \"))\n",
        " cont+=1\n",
        "\n",
        "print(f\"acertou, mzrrrr!! {cont} tentativas!\")"
      ]
    },
    {
      "cell_type": "code",
      "source": [],
      "metadata": {
        "id": "u3aQNili3P_K"
      },
      "execution_count": null,
      "outputs": []
    }
  ]
}
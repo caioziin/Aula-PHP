{
  "nbformat": 4,
  "nbformat_minor": 0,
  "metadata": {
    "colab": {
      "provenance": [],
      "authorship_tag": "ABX9TyPcdrrvxwDxHqLB2+73e3em",
      "include_colab_link": true
    },
    "kernelspec": {
      "name": "python3",
      "display_name": "Python 3"
    },
    "language_info": {
      "name": "python"
    }
  },
  "cells": [
    {
      "cell_type": "markdown",
      "metadata": {
        "id": "view-in-github",
        "colab_type": "text"
      },
      "source": [
        "<a href=\"https://colab.research.google.com/github/caioziin/Aula-PHYTHON/blob/main/Exercicio.ipynb\" target=\"_parent\"><img src=\"https://colab.research.google.com/assets/colab-badge.svg\" alt=\"Open In Colab\"/></a>"
      ]
    },
    {
      "cell_type": "code",
      "execution_count": null,
      "metadata": {
        "id": "Pk3M7vdIFdIx"
      },
      "outputs": [],
      "source": [
        "#o calculo de Juros Simples é dado pela fórmula:\n",
        "# J = C * i * t\n",
        "# Sendo:\n",
        "# J = Juros Simples\n",
        "# C = Capital inicial\n",
        "# i = taxa de juros \n",
        "# t = tempo de aplicacao\n",
        "#Crie uma função que recebe um valor de empréstimo e tempo\n",
        "#Retorne quanto sera pago  de juros do final do periodo \n",
        "#Use uma taxa de juros de 2.5%\n"
      ]
    },
    {
      "cell_type": "code",
      "source": [
        "def soma(a, b):\n",
        " return a + b\n",
        "#Subtração\n",
        "def subtracao(a, b):\n",
        " return a - b\n",
        "#Multipliacação\n",
        "def multiplicacao(a, b):\n",
        " return a * b\n",
        "#Divisão\n",
        "def divisao(a, b):\n",
        " return a / b\n",
        "\n"
      ],
      "metadata": {
        "id": "0U9dgg4TGsJn"
      },
      "execution_count": 2,
      "outputs": []
    }
  ]
}
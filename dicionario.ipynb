{
  "nbformat": 4,
  "nbformat_minor": 0,
  "metadata": {
    "colab": {
      "provenance": [],
      "authorship_tag": "ABX9TyON+JouyAGGH1xM+105s6Eh",
      "include_colab_link": true
    },
    "kernelspec": {
      "name": "python3",
      "display_name": "Python 3"
    },
    "language_info": {
      "name": "python"
    }
  },
  "cells": [
    {
      "cell_type": "markdown",
      "metadata": {
        "id": "view-in-github",
        "colab_type": "text"
      },
      "source": [
        "<a href=\"https://colab.research.google.com/github/caioziin/Aula-PHYTHON/blob/main/dicionario.ipynb\" target=\"_parent\"><img src=\"https://colab.research.google.com/assets/colab-badge.svg\" alt=\"Open In Colab\"/></a>"
      ]
    },
    {
      "cell_type": "markdown",
      "source": [
        "Dicionários { }"
      ],
      "metadata": {
        "id": "KamgyghYFnJ6"
      }
    },
    {
      "cell_type": "code",
      "source": [
        "#Criando dicionários\n",
        "#Os dicionários são definidos utilizando chaves {} \n",
        "#e os pares chave-valor são separados por dois pontos (:)\n",
        "\n",
        "#Contatos\n",
        "contatos = {\n",
        "    'Ostervaldo' : 'oster@email.com',\n",
        "    'Maristênio' : 'marist@email.com',\n",
        "    'Leroiane' : 'lero@email.com', \n",
        "    'Jozezin' : ['zezin@exemplo.com', 'zemane@xemple.com']\n",
        "}\n",
        "\n",
        "contatos"
      ],
      "metadata": {
        "colab": {
          "base_uri": "https://localhost:8080/"
        },
        "id": "yDIb5l8UFn3q",
        "outputId": "8f4cecde-aed4-4fb6-dc34-867bfa3b3183"
      },
      "execution_count": 2,
      "outputs": [
        {
          "output_type": "execute_result",
          "data": {
            "text/plain": [
              "{'Ostervaldo': 'oster@email.com',\n",
              " 'Maristênio': 'marist@email.com',\n",
              " 'Leroiane': 'lero@email.com',\n",
              " 'Jozezin': ['zezin@exemplo.com', 'zemane@xemple.com']}"
            ]
          },
          "metadata": {},
          "execution_count": 2
        }
      ]
    },
    {
      "cell_type": "code",
      "source": [
        "{'Ostervaldo': 'oster@email.com',\n",
        " 'Maristênio': 'marist@email.com',\n",
        " 'Leroiane': 'lero@email.com',\n",
        " 'Jozezin': ['zezin@exemplo.com', 'zemane@xemple.com']}"
      ],
      "metadata": {
        "colab": {
          "base_uri": "https://localhost:8080/"
        },
        "id": "KTdfsnglFtUg",
        "outputId": "dc44422e-1fe3-4ec2-d980-24a5b369002f"
      },
      "execution_count": 3,
      "outputs": [
        {
          "output_type": "execute_result",
          "data": {
            "text/plain": [
              "{'Ostervaldo': 'oster@email.com',\n",
              " 'Maristênio': 'marist@email.com',\n",
              " 'Leroiane': 'lero@email.com',\n",
              " 'Jozezin': ['zezin@exemplo.com', 'zemane@xemple.com']}"
            ]
          },
          "metadata": {},
          "execution_count": 3
        }
      ]
    },
    {
      "cell_type": "code",
      "source": [
        "#Acessando valores\n",
        "contatos['Leroiane']"
      ],
      "metadata": {
        "colab": {
          "base_uri": "https://localhost:8080/",
          "height": 35
        },
        "id": "8LVaH3gpFvVY",
        "outputId": "97644ab2-8db0-4ee9-9b96-484b4dd5d95b"
      },
      "execution_count": 4,
      "outputs": [
        {
          "output_type": "execute_result",
          "data": {
            "text/plain": [
              "'lero@email.com'"
            ],
            "application/vnd.google.colaboratory.intrinsic+json": {
              "type": "string"
            }
          },
          "metadata": {},
          "execution_count": 4
        }
      ]
    },
    {
      "cell_type": "code",
      "source": [
        "#Criar\n",
        "lutadores = [\n",
        "    {\n",
        "    \"nome\" : \"Anderson Silva\",\n",
        "    \"categoria\" : \"Meio médio\",\n",
        "    \"envergadura\" : 2\n",
        "    \n",
        "    },\n",
        "    {\n",
        "     \"nome\" : \"Luana Pinheiro\",\n",
        "     \"categoria\" : \"Palha\",\n",
        "     \"envergadura\" : 1.6\n",
        "    }\n",
        "]"
      ],
      "metadata": {
        "id": "2jkWw5dlHfxJ"
      },
      "execution_count": 10,
      "outputs": []
    },
    {
      "cell_type": "code",
      "source": [
        "#Adição por concatenação\n",
        "a = {'zé': 'ze@mailzemplo.com', \n",
        "     'gardenia':'gardenia@exemplo.com',\n",
        "     'Aloisio' : 'aloisio@exml.com'}\n",
        "\n",
        "contatos.update(a)\n",
        "\n",
        "contatos"
      ],
      "metadata": {
        "colab": {
          "base_uri": "https://localhost:8080/"
        },
        "id": "bunF1JqGIqPH",
        "outputId": "60810e8f-9556-4d89-f6f0-718b8aaee11f"
      },
      "execution_count": 11,
      "outputs": [
        {
          "output_type": "execute_result",
          "data": {
            "text/plain": [
              "{'Ostervaldo': 'oster@email.com',\n",
              " 'Maristênio': 'marist@email.com',\n",
              " 'Leroiane': 'lero@email.com',\n",
              " 'Jozezin': ['zezin@exemplo.com', 'zemane@xemple.com'],\n",
              " 'zé': 'ze@mailzemplo.com',\n",
              " 'gardenia': 'gardenia@exemplo.com',\n",
              " 'Aloisio': 'aloisio@exml.com'}"
            ]
          },
          "metadata": {},
          "execution_count": 11
        }
      ]
    },
    {
      "cell_type": "code",
      "source": [
        "#Modificar (só inserir um novo valor à chave correspondente)\n",
        "contatos['Maristênio'] = 'steniomari2023@exemplo.com'\n",
        "\n",
        "contatos\n",
        "     "
      ],
      "metadata": {
        "colab": {
          "base_uri": "https://localhost:8080/"
        },
        "id": "S8nvw5vzLM-X",
        "outputId": "f28189bf-6232-4a2b-98e6-9b6a81b30089"
      },
      "execution_count": 12,
      "outputs": [
        {
          "output_type": "execute_result",
          "data": {
            "text/plain": [
              "{'Ostervaldo': 'oster@email.com',\n",
              " 'Maristênio': 'steniomari2023@exemplo.com',\n",
              " 'Leroiane': 'lero@email.com',\n",
              " 'Jozezin': ['zezin@exemplo.com', 'zemane@xemple.com'],\n",
              " 'zé': 'ze@mailzemplo.com',\n",
              " 'gardenia': 'gardenia@exemplo.com',\n",
              " 'Aloisio': 'aloisio@exml.com'}"
            ]
          },
          "metadata": {},
          "execution_count": 12
        }
      ]
    },
    {
      "cell_type": "code",
      "source": [
        "#Remoção del\n",
        "\n",
        "del contatos['Aloisio']\n",
        "\n",
        "contatos"
      ],
      "metadata": {
        "colab": {
          "base_uri": "https://localhost:8080/"
        },
        "id": "K3NI1S-2LQUf",
        "outputId": "37604121-ad5d-4a6b-e503-100d3860ab07"
      },
      "execution_count": 17,
      "outputs": [
        {
          "output_type": "execute_result",
          "data": {
            "text/plain": [
              "{'Ostervaldo': 'oster@email.com',\n",
              " 'Maristênio': 'steniomari2023@exemplo.com',\n",
              " 'Leroiane': 'lero@email.com',\n",
              " 'Jozezin': ['zezin@exemplo.com', 'zemane@xemple.com'],\n",
              " 'zé': 'ze@mailzemplo.com',\n",
              " 'gardenia': 'gardenia@exemplo.com'}"
            ]
          },
          "metadata": {},
          "execution_count": 17
        }
      ]
    },
    {
      "cell_type": "code",
      "source": [
        "contatos.items()"
      ],
      "metadata": {
        "colab": {
          "base_uri": "https://localhost:8080/"
        },
        "id": "s_yE2GQvMpWx",
        "outputId": "879f7eba-6ed6-4d52-cb47-9a2e48d29ebf"
      },
      "execution_count": 18,
      "outputs": [
        {
          "output_type": "execute_result",
          "data": {
            "text/plain": [
              "dict_items([('Ostervaldo', 'oster@email.com'), ('Maristênio', 'steniomari2023@exemplo.com'), ('Leroiane', 'lero@email.com'), ('Jozezin', ['zezin@exemplo.com', 'zemane@xemple.com']), ('zé', 'ze@mailzemplo.com'), ('gardenia', 'gardenia@exemplo.com')])"
            ]
          },
          "metadata": {},
          "execution_count": 18
        }
      ]
    },
    {
      "cell_type": "code",
      "source": [
        "#metodos úteis keys(), values ()\n",
        "contatos.keys()"
      ],
      "metadata": {
        "colab": {
          "base_uri": "https://localhost:8080/"
        },
        "id": "2Ij2sMoZP7fG",
        "outputId": "5f9d4b10-8c6b-4126-8167-7f626d41729e"
      },
      "execution_count": 19,
      "outputs": [
        {
          "output_type": "execute_result",
          "data": {
            "text/plain": [
              "dict_keys(['Ostervaldo', 'Maristênio', 'Leroiane', 'Jozezin', 'zé', 'gardenia'])"
            ]
          },
          "metadata": {},
          "execution_count": 19
        }
      ]
    },
    {
      "cell_type": "code",
      "source": [
        "contatos.values()"
      ],
      "metadata": {
        "colab": {
          "base_uri": "https://localhost:8080/"
        },
        "id": "iu5jqL8cQGCl",
        "outputId": "e0e1c862-f365-42c3-adad-def89ed91154"
      },
      "execution_count": 20,
      "outputs": [
        {
          "output_type": "execute_result",
          "data": {
            "text/plain": [
              "dict_values(['oster@email.com', 'steniomari2023@exemplo.com', 'lero@email.com', ['zezin@exemplo.com', 'zemane@xemple.com'], 'ze@mailzemplo.com', 'gardenia@exemplo.com'])"
            ]
          },
          "metadata": {},
          "execution_count": 20
        }
      ]
    },
    {
      "cell_type": "code",
      "source": [
        "nomes = (contatos.keys()) "
      ],
      "metadata": {
        "id": "XBYuBQJBQIGF"
      },
      "execution_count": 21,
      "outputs": []
    },
    {
      "cell_type": "code",
      "source": [
        "#Valores máximos, mínimos e ordenações\n",
        "curso = {'Alice': 8.5, 'Tiago': 7.0, 'Chico': 6.5, 'Nubia': 10}\n",
        "#Quem obteve a maior nota?\n",
        "max(curso, key= curso.get)"
      ],
      "metadata": {
        "colab": {
          "base_uri": "https://localhost:8080/",
          "height": 35
        },
        "id": "bmZzi5jhQqEU",
        "outputId": "574e8ac6-90da-4aac-c8be-c0bb0a0912a4"
      },
      "execution_count": 22,
      "outputs": [
        {
          "output_type": "execute_result",
          "data": {
            "text/plain": [
              "'Nubia'"
            ],
            "application/vnd.google.colaboratory.intrinsic+json": {
              "type": "string"
            }
          },
          "metadata": {},
          "execution_count": 22
        }
      ]
    },
    {
      "cell_type": "code",
      "source": [
        "#E a menor nota?\n",
        "min(curso, key = curso.get)"
      ],
      "metadata": {
        "colab": {
          "base_uri": "https://localhost:8080/",
          "height": 35
        },
        "id": "ipVmJ4CRRDlT",
        "outputId": "1b26b455-daa6-402d-e0cb-e8025b5a4167"
      },
      "execution_count": 23,
      "outputs": [
        {
          "output_type": "execute_result",
          "data": {
            "text/plain": [
              "'Chico'"
            ],
            "application/vnd.google.colaboratory.intrinsic+json": {
              "type": "string"
            }
          },
          "metadata": {},
          "execution_count": 23
        }
      ]
    },
    {
      "cell_type": "code",
      "source": [
        "#Ordene pela nota da menor para a maior\n",
        "sorted(curso, key = curso.get)"
      ],
      "metadata": {
        "colab": {
          "base_uri": "https://localhost:8080/"
        },
        "id": "m9GNH7arSDhK",
        "outputId": "ab3f25ff-c2cd-423c-cca9-d6b506ea9879"
      },
      "execution_count": 24,
      "outputs": [
        {
          "output_type": "execute_result",
          "data": {
            "text/plain": [
              "['Chico', 'Tiago', 'Alice', 'Nubia']"
            ]
          },
          "metadata": {},
          "execution_count": 24
        }
      ]
    },
    {
      "cell_type": "code",
      "source": [
        "#Ordene pela nota da maior para a menor\n",
        "sorted(curso, key = curso.get, reverse = True)"
      ],
      "metadata": {
        "colab": {
          "base_uri": "https://localhost:8080/"
        },
        "id": "MSNgJMpISD-C",
        "outputId": "e478e4ef-7790-423b-e33a-005fb269d8d1"
      },
      "execution_count": 25,
      "outputs": [
        {
          "output_type": "execute_result",
          "data": {
            "text/plain": [
              "['Nubia', 'Alice', 'Tiago', 'Chico']"
            ]
          },
          "metadata": {},
          "execution_count": 25
        }
      ]
    },
    {
      "cell_type": "code",
      "source": [],
      "metadata": {
        "id": "22hBOquwWAI6"
      },
      "execution_count": null,
      "outputs": []
    }
  ]
}
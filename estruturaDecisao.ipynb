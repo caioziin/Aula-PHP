{
  "nbformat": 4,
  "nbformat_minor": 0,
  "metadata": {
    "colab": {
      "provenance": [],
      "authorship_tag": "ABX9TyOiEmO/MzugUqAa4tk7069I",
      "include_colab_link": true
    },
    "kernelspec": {
      "name": "python3",
      "display_name": "Python 3"
    },
    "language_info": {
      "name": "python"
    }
  },
  "cells": [
    {
      "cell_type": "markdown",
      "metadata": {
        "id": "view-in-github",
        "colab_type": "text"
      },
      "source": [
        "<a href=\"https://colab.research.google.com/github/caioziin/Aula-PHYTHON/blob/main/estruturaDecisao.ipynb\" target=\"_parent\"><img src=\"https://colab.research.google.com/assets/colab-badge.svg\" alt=\"Open In Colab\"/></a>"
      ]
    },
    {
      "cell_type": "code",
      "execution_count": 5,
      "metadata": {
        "colab": {
          "base_uri": "https://localhost:8080/"
        },
        "id": "Z_nM2ZL0JgWy",
        "outputId": "1c8dcd1f-c81a-4f98-aa6b-39960ae3de80"
      },
      "outputs": [
        {
          "output_type": "stream",
          "name": "stdout",
          "text": [
            "Digite um numero: 10\n",
            "Digite um numero: 12\n",
            "12\n"
          ]
        }
      ],
      "source": [
        "#Faça um Programa que peça dois números e imprima o maior deles.\n",
        "num1 = int(input(\"Digite um numero: \")) \n",
        "num2 = int(input(\"Digite um numero: \")) \n",
        "if num1 > num2:\n",
        "  print(num1)\n",
        "else:\n",
        "  print(num2)\n"
      ]
    },
    {
      "cell_type": "code",
      "source": [
        "#Faça um Programa que peça um valor e mostre na tela se o valor é positivo ou negativo.\n",
        "valor = float(input(\"Digite um valor: \"))\n",
        "if valor > 0:\n",
        "    print(\"O valor é positivo.\")\n",
        "elif valor < 0:\n",
        "    print(\"O valor é negativo.\")\n",
        "else:\n",
        "    print(\"O valor é zero.\")"
      ],
      "metadata": {
        "colab": {
          "base_uri": "https://localhost:8080/"
        },
        "id": "mvjhRV-HKny7",
        "outputId": "16c5f3a0-f270-4abf-d075-bf525f13b344"
      },
      "execution_count": 13,
      "outputs": [
        {
          "output_type": "stream",
          "name": "stdout",
          "text": [
            "Digite um valor: 10\n",
            "O valor é positivo.\n"
          ]
        }
      ]
    },
    {
      "cell_type": "code",
      "source": [
        "#Faça um programa que peça um número e mostre na tela se o valor é par ou ímpar.\n",
        "valor = int(input(\"Digite um numero: \" ))\n",
        "if valor % 2 == 0:\n",
        "  print(\"par\")\n",
        "else:\n",
        "  print(\"ímpar\")\n",
        "\n"
      ],
      "metadata": {
        "colab": {
          "base_uri": "https://localhost:8080/"
        },
        "id": "XWs9pD_NMPoJ",
        "outputId": "7b98bdeb-0841-4fc0-980a-c2e84f8cdf01"
      },
      "execution_count": 18,
      "outputs": [
        {
          "output_type": "stream",
          "name": "stdout",
          "text": [
            "Digite um numero: 3\n",
            "ímpar\n"
          ]
        }
      ]
    },
    {
      "cell_type": "code",
      "source": [
        "#Faça um Programa que verifique se uma letra digitada é \"F\" ou \"M\". Conforme a letra escrever: F - Feminino, M - Masculino, Sexo Inválido.\n",
        "letra = input(\"Digite a letra (M ou F)\")\n",
        "if letra == \"F\" or letra == \"f\":\n",
        "  print(\"Feminino\")\n",
        "elif letra == \"M\" or letra ==\"m\":\n",
        "  print(\"Masculino\")\n",
        "else:\n",
        "  print(\"sexo inválido\")"
      ],
      "metadata": {
        "colab": {
          "base_uri": "https://localhost:8080/"
        },
        "id": "-7lOom_nNlhh",
        "outputId": "40164ef2-41eb-4738-8996-5fdc3d4917bc"
      },
      "execution_count": 20,
      "outputs": [
        {
          "output_type": "stream",
          "name": "stdout",
          "text": [
            "Digite a letra (M ou F)m\n",
            "Masculino\n"
          ]
        }
      ]
    },
    {
      "cell_type": "code",
      "source": [
        "#Faça um Programa que verifique se uma letra digitada é vogal ou consoante.\n",
        "letra = input(\"Digite uma letra: \")\n",
        "if letra.lower() in ['a', 'e','i','o','u']:\n",
        "  print(\"Vogal\")\n",
        "else:\n",
        "  print(\"Consoante\")\n",
        "  \n",
        "\n"
      ],
      "metadata": {
        "colab": {
          "base_uri": "https://localhost:8080/"
        },
        "id": "pd9LiYoDO7EP",
        "outputId": "3959a0e6-bdc7-49e1-9749-b52462b3aeba"
      },
      "execution_count": 25,
      "outputs": [
        {
          "output_type": "stream",
          "name": "stdout",
          "text": [
            "Digite uma letra: ç\n",
            "Consoante\n"
          ]
        }
      ]
    },
    {
      "cell_type": "markdown",
      "source": [
        "Faça um programa para a leitura de duas notas parciais de um aluno. O programa deve calcular a média alcançada por aluno e apresentar:\n",
        "A mensagem \"Aprovado\", se a média alcançada for maior ou igual a sete;\n",
        "A mensagem \"Reprovado\", se a média for menor do que sete;\n",
        "A mensagem \"Aprovado com Distinção\", se a média for igual a dez."
      ],
      "metadata": {
        "id": "cK0TtH-OQvEy"
      }
    },
    {
      "cell_type": "code",
      "source": [
        "#Média\n",
        "nota1 = int(input(\"Digite a nota :\"))\n",
        "nota2 = int(input(\"Digite a nota :\"))\n",
        "media = (nota1 + nota2)/2\n",
        "if media == 10:\n",
        "  print(\"Aprovado com Distinção\")\n",
        "elif media >= 7:\n",
        "  print(\"Aprovado\")\n",
        "else:\n",
        "  print(\"Reprovado\")\n"
      ],
      "metadata": {
        "colab": {
          "base_uri": "https://localhost:8080/"
        },
        "id": "fDd5jf63Qw5h",
        "outputId": "5b241558-a06e-43ef-edca-b8057e00e176"
      },
      "execution_count": 40,
      "outputs": [
        {
          "output_type": "stream",
          "name": "stdout",
          "text": [
            "Digite a nota :10\n",
            "Digite a nota :10\n",
            "Aprovado com Distinção\n"
          ]
        }
      ]
    },
    {
      "cell_type": "code",
      "source": [
        "#Faça um Programa que leia três números e mostre o maior deles.\n",
        "num1 = float(input(\"Digite o primeiro número: \"))\n",
        "num2 = float(input(\"Digite o segundo número: \"))\n",
        "num3 = float(input(\"Digite o terceiro número: \"))\n",
        "\n",
        "maior = num1\n",
        "\n",
        "if num2 > maior:\n",
        "    maior = num2\n",
        "\n",
        "if num3 > maior:\n",
        "    maior = num3\n",
        "\n",
        "print(\"O maior número é:\", maior)\n"
      ],
      "metadata": {
        "colab": {
          "base_uri": "https://localhost:8080/"
        },
        "id": "XreL7xtwSjpY",
        "outputId": "1cc81672-8e59-46cd-b213-5eb0a350657e"
      },
      "execution_count": 41,
      "outputs": [
        {
          "output_type": "stream",
          "name": "stdout",
          "text": [
            "Digite o primeiro número: 5\n",
            "Digite o segundo número: 6\n",
            "Digite o terceiro número: 1\n",
            "O maior número é: 6.0\n"
          ]
        }
      ]
    },
    {
      "cell_type": "code",
      "source": [
        "#Calcule a formula de baskara, e determine se delta e negativo ou positivo\n",
        "import math\n",
        "\n",
        "def calcular_bhaskara(a, b, c):\n",
        "    delta = b**2 - 4*a*c\n",
        "    if delta > 0:\n",
        "        raiz1 = (-b + math.sqrt(delta)) / (2*a)\n",
        "        raiz2 = (-b - math.sqrt(delta)) / (2*a)\n",
        "        print(\"As raízes são reais e diferentes:\")\n",
        "        print(\"Raiz 1 =\", raiz1)\n",
        "        print(\"Raiz 2 =\", raiz2)\n",
        "    elif delta == 0:\n",
        "        raiz = -b / (2*a)\n",
        "        print(\"As raízes são reais e iguais:\")\n",
        "        print(\"Raiz =\", raiz)\n",
        "    else:\n",
        "        print(\"As raízes são complexas e conjugadas.\")\n",
        "        parte_real = -b / (2*a)\n",
        "        parte_imaginaria = math.sqrt(-delta) / (2*a)\n",
        "        print(\"Raiz 1 =\", complex(parte_real, parte_imaginaria))\n",
        "        print(\"Raiz 2 =\", complex(parte_real, -parte_imaginaria))\n",
        "\n",
        "# Exemplo de uso:\n",
        "calcular_bhaskara(1, -3, 2)\n"
      ],
      "metadata": {
        "colab": {
          "base_uri": "https://localhost:8080/"
        },
        "id": "tNrGDqceT7KA",
        "outputId": "c9c9593e-bf0b-4071-f2d2-6de93720c55c"
      },
      "execution_count": 42,
      "outputs": [
        {
          "output_type": "stream",
          "name": "stdout",
          "text": [
            "As raízes são reais e diferentes:\n",
            "Raiz 1 = 2.0\n",
            "Raiz 2 = 1.0\n"
          ]
        }
      ]
    },
    {
      "cell_type": "code",
      "source": [
        "#Faça um Programa que leia três números e mostre o maior e o menor deles.\n",
        "num1 = float(input(\"Digite um numero: \"))\n",
        "num2 = float(input(\"Digite um numero: \"))\n",
        "num3 = float(input(\"Digite um numero: \"))\n",
        "\n",
        "maior = num1\n",
        "menor = num1\n",
        "\n",
        "if num2 > maior:\n",
        "  maior = num2\n",
        "if num3 > maior:\n",
        "   maior = num3\n",
        "\n",
        "if num2 < menor:\n",
        "   menor = num2\n",
        "if num3 < menor:\n",
        "   menor = num3\n",
        "\n",
        "\n",
        "print(\"O numero maior é: \", maior)\n",
        "print(\"O numero menor é: \", menor)"
      ],
      "metadata": {
        "colab": {
          "base_uri": "https://localhost:8080/"
        },
        "id": "fi6c7mLawKKz",
        "outputId": "db683e0e-bb6e-415c-e8fb-a03f82c8d2f2"
      },
      "execution_count": 18,
      "outputs": [
        {
          "output_type": "stream",
          "name": "stdout",
          "text": [
            "Digite um numero: 1\n",
            "Digite um numero: 2\n",
            "Digite um numero: 3\n",
            "O numero maior é:  3.0\n",
            "O numero menor é:  1.0\n"
          ]
        }
      ]
    },
    {
      "cell_type": "code",
      "source": [
        "#Faça um programa que pergunte o preço de três produtos e informe qual produto você deve comprar, sabendo que a decisão é sempre pelo mais barato.\n",
        "preco1 = float(input(\"Informe o  preço aqui: \"))\n",
        "preco2 = float(input(\"Informe o  preço aqui: \"))\n",
        "preco3 = float(input(\"Informe o  preço aqui: \"))\n",
        "\n",
        "if preco1 < preco2 and preco1 < preco3:\n",
        "  print(\"Você deve comprar o primeiro produto\")\n",
        "elif preco2 < preco1 and preco2 < preco3:\n",
        "  print(\"Você deve comprar o segundo produto\")\n",
        "else:\n",
        "  print(\"Você deve comprar o terceiro produto\")"
      ],
      "metadata": {
        "colab": {
          "base_uri": "https://localhost:8080/"
        },
        "id": "pyCmHai918Yy",
        "outputId": "5c1fe306-4f99-47db-ecec-32cffdd43d4d"
      },
      "execution_count": 19,
      "outputs": [
        {
          "output_type": "stream",
          "name": "stdout",
          "text": [
            "Informe o  preço aqui: 2\n",
            "Informe o  preço aqui: 1\n",
            "Informe o  preço aqui: 4\n",
            "Você deve comprar o segundo produto\n"
          ]
        }
      ]
    },
    {
      "cell_type": "code",
      "source": [
        "#Faça um Programa que leia três números e mostre-os em ordem decrescente.\n",
        "number1 = int(input(\"Digite o primeiro numero: \"))\n",
        "number2 = int(input(\"Digite o segundo numero: \"))\n",
        "number3 = int(input(\"Digite o terceiro numero: \"))\n",
        "\n"
      ],
      "metadata": {
        "id": "7UGEmqRC309P"
      },
      "execution_count": null,
      "outputs": []
    }
  ]
}
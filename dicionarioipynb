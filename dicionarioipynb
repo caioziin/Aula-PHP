{
  "nbformat": 4,
  "nbformat_minor": 0,
  "metadata": {
    "colab": {
      "provenance": [],
      "authorship_tag": "ABX9TyNa11FlY0mZLPYzHNRkcVvh",
      "include_colab_link": true
    },
    "kernelspec": {
      "name": "python3",
      "display_name": "Python 3"
    },
    "language_info": {
      "name": "python"
    }
  },
  "cells": [
    {
      "cell_type": "markdown",
      "metadata": {
        "id": "view-in-github",
        "colab_type": "text"
      },
      "source": [
        "<a href=\"https://colab.research.google.com/github/caioziin/Aula-PHYTHON/blob/main/dicionarioipynb\" target=\"_parent\"><img src=\"https://colab.research.google.com/assets/colab-badge.svg\" alt=\"Open In Colab\"/></a>"
      ]
    },
    {
      "cell_type": "code",
      "execution_count": 2,
      "metadata": {
        "colab": {
          "base_uri": "https://localhost:8080/"
        },
        "id": "jKs-Y5_FFsXd",
        "outputId": "b0f7050f-1cb7-4f2f-b3be-eb6a285ad7a9"
      },
      "outputs": [
        {
          "output_type": "execute_result",
          "data": {
            "text/plain": [
              "{'Andre': 8.5,\n",
              " 'Ana': 7.0,\n",
              " 'Chico': 6.0,\n",
              " 'Nubia': 10,\n",
              " 'Luana': 8,\n",
              " 'Julio': 5.5,\n",
              " 'Aristoteles': 6.0,\n",
              " 'Sebastian': 9.5,\n",
              " 'Camila': 10,\n",
              " 'João': 5}"
            ]
          },
          "metadata": {},
          "execution_count": 2
        }
      ],
      "source": [
        "provaA = {'Andre': 8.5, 'Ana':7.0,'Chico':6.0, 'Nubia':10,'Luana':8}\n",
        "provaB = {'Julio' : 5.5,'Aristoteles' : 6.0, 'Sebastian' : 9.5,'Camila': 10, 'João' : 5}\n",
        "\n",
        "resultado_final = {} #novo dicionario resultado_final\n",
        "resultado_final.update(provaA)\n",
        "resultado_final.update(provaB)\n",
        "\n",
        "resultado_final"
      ]
    },
    {
      "cell_type": "code",
      "source": [
        "#Ordenação\n",
        "sorted(resultado_final, key = resultado_final.get, reverse = True )"
      ],
      "metadata": {
        "colab": {
          "base_uri": "https://localhost:8080/"
        },
        "id": "gUhmMnzqJH6b",
        "outputId": "ee4ca0b0-4457-4e58-fafe-9f4b317165d7"
      },
      "execution_count": 3,
      "outputs": [
        {
          "output_type": "execute_result",
          "data": {
            "text/plain": [
              "['Nubia',\n",
              " 'Camila',\n",
              " 'Sebastian',\n",
              " 'Andre',\n",
              " 'Luana',\n",
              " 'Ana',\n",
              " 'Chico',\n",
              " 'Aristoteles',\n",
              " 'Julio',\n",
              " 'João']"
            ]
          },
          "metadata": {},
          "execution_count": 3
        }
      ]
    },
    {
      "cell_type": "code",
      "source": [
        "sorted(resultado_final.items(), key = lambda x: x[1],reverse= True)#Ordenação cresecente"
      ],
      "metadata": {
        "colab": {
          "base_uri": "https://localhost:8080/"
        },
        "id": "2-pEfUV5KUuc",
        "outputId": "0719b89b-928e-464f-fb71-1480df11b093"
      },
      "execution_count": 4,
      "outputs": [
        {
          "output_type": "execute_result",
          "data": {
            "text/plain": [
              "[('Nubia', 10),\n",
              " ('Camila', 10),\n",
              " ('Sebastian', 9.5),\n",
              " ('Andre', 8.5),\n",
              " ('Luana', 8),\n",
              " ('Ana', 7.0),\n",
              " ('Chico', 6.0),\n",
              " ('Aristoteles', 6.0),\n",
              " ('Julio', 5.5),\n",
              " ('João', 5)]"
            ]
          },
          "metadata": {},
          "execution_count": 4
        }
      ]
    },
    {
      "cell_type": "code",
      "source": [
        "listaCandidatos = list(resultado_final.keys())\n",
        "listaCandidatos"
      ],
      "metadata": {
        "colab": {
          "base_uri": "https://localhost:8080/"
        },
        "id": "gJW8jipYK2pt",
        "outputId": "61311ebc-76da-4781-8064-6e312b862054"
      },
      "execution_count": 8,
      "outputs": [
        {
          "output_type": "execute_result",
          "data": {
            "text/plain": [
              "['Andre',\n",
              " 'Ana',\n",
              " 'Chico',\n",
              " 'Nubia',\n",
              " 'Luana',\n",
              " 'Julio',\n",
              " 'Aristoteles',\n",
              " 'Sebastian',\n",
              " 'Camila',\n",
              " 'João']"
            ]
          },
          "metadata": {},
          "execution_count": 8
        }
      ]
    },
    {
      "cell_type": "code",
      "source": [
        "listaNotas = list(resultado_final.values())\n",
        "listaNotas"
      ],
      "metadata": {
        "colab": {
          "base_uri": "https://localhost:8080/"
        },
        "id": "tn1MnXf6MZOE",
        "outputId": "8702b84e-7205-404f-86ca-846830d30a2e"
      },
      "execution_count": 10,
      "outputs": [
        {
          "output_type": "execute_result",
          "data": {
            "text/plain": [
              "[8.5, 7.0, 6.0, 10, 8, 5.5, 6.0, 9.5, 10, 5]"
            ]
          },
          "metadata": {},
          "execution_count": 10
        }
      ]
    },
    {
      "cell_type": "code",
      "source": [
        "resultado_final.get('epaminonsdas', 'candidato nao existe')"
      ],
      "metadata": {
        "colab": {
          "base_uri": "https://localhost:8080/",
          "height": 35
        },
        "id": "msfZbhH9NtTs",
        "outputId": "65038bbc-e9c7-434c-f882-835b19b3be46"
      },
      "execution_count": 12,
      "outputs": [
        {
          "output_type": "execute_result",
          "data": {
            "text/plain": [
              "'candidato nao existe'"
            ],
            "application/vnd.google.colaboratory.intrinsic+json": {
              "type": "string"
            }
          },
          "metadata": {},
          "execution_count": 12
        }
      ]
    },
    {
      "cell_type": "code",
      "source": [
        "def consultaNota(dicionario, nome):\n",
        "  return dicionario.get"
      ],
      "metadata": {
        "id": "pCQcu9dGRSaP"
      },
      "execution_count": null,
      "outputs": []
    }
  ]
}
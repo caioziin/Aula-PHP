{
  "nbformat": 4,
  "nbformat_minor": 0,
  "metadata": {
    "colab": {
      "provenance": [],
      "authorship_tag": "ABX9TyPpUTbDQGzcZDaudlkx119j",
      "include_colab_link": true
    },
    "kernelspec": {
      "name": "python3",
      "display_name": "Python 3"
    },
    "language_info": {
      "name": "python"
    }
  },
  "cells": [
    {
      "cell_type": "markdown",
      "metadata": {
        "id": "view-in-github",
        "colab_type": "text"
      },
      "source": [
        "<a href=\"https://colab.research.google.com/github/caioziin/Aula-PHYTHON/blob/main/estruturaSequencial.ipynb\" target=\"_parent\"><img src=\"https://colab.research.google.com/assets/colab-badge.svg\" alt=\"Open In Colab\"/></a>"
      ]
    },
    {
      "cell_type": "code",
      "execution_count": 4,
      "metadata": {
        "id": "Z-LEdB96hwII",
        "colab": {
          "base_uri": "https://localhost:8080/"
        },
        "outputId": "67f4e3fe-3861-48dc-e5ea-9a2e1270ffc8"
      },
      "outputs": [
        {
          "output_type": "stream",
          "name": "stdout",
          "text": [
            "112.0\n"
          ]
        }
      ],
      "source": [
        "#calcule o juros\n",
        "valor = 1200\n",
        "juros = valor * 0.12\n",
        "total = valor + juros\n",
        "parcela = total/12\n",
        "\n",
        "print(parcela)"
      ]
    },
    {
      "cell_type": "code",
      "source": [
        "#Calcule a porcetagem\n",
        "numero = 10\n",
        "porcetagem = numero * 0.15\n",
        "\n",
        "print(porcetagem)"
      ],
      "metadata": {
        "colab": {
          "base_uri": "https://localhost:8080/"
        },
        "id": "uaMnEf-v4M81",
        "outputId": "5dd122b8-c443-42e6-dd06-48f72751b644"
      },
      "execution_count": 5,
      "outputs": [
        {
          "output_type": "stream",
          "name": "stdout",
          "text": [
            "1.5\n"
          ]
        }
      ]
    },
    {
      "cell_type": "code",
      "source": [
        "#Informe um numero na tela\n",
        "numero = input(\"Digite um número: \")\n",
        "print(\"O número informado foi\", numero)"
      ],
      "metadata": {
        "colab": {
          "base_uri": "https://localhost:8080/"
        },
        "id": "bemqLiSm6sw_",
        "outputId": "7b40cf4f-7a28-4f41-a0ef-4a01d9740a02"
      },
      "execution_count": 9,
      "outputs": [
        {
          "output_type": "stream",
          "name": "stdout",
          "text": [
            "Digite um número: 10\n",
            "O número informado foi 10\n"
          ]
        }
      ]
    },
    {
      "cell_type": "code",
      "source": [
        "#Faça um Programa que peça dois números e imprima a soma\n",
        "num1 = float(input(\"Digitre um numero: \"))\n",
        "num2 = float(input(\"Digitre um numero: \"))\n",
        "soma = num1 + num2\n",
        "print(\"A soma dos numeros é \", soma)"
      ],
      "metadata": {
        "colab": {
          "base_uri": "https://localhost:8080/"
        },
        "id": "snebFh5J8AEy",
        "outputId": "2e9bbfb3-0c2f-40da-b0d7-72d46a8a8281"
      },
      "execution_count": 14,
      "outputs": [
        {
          "output_type": "stream",
          "name": "stdout",
          "text": [
            "Digitre um numero: 10\n",
            "Digitre um numero: 10\n",
            "A soma dos numeros é  20.0\n"
          ]
        }
      ]
    },
    {
      "cell_type": "code",
      "source": [
        "#Faça um Programa que peça as 4 notas bimestrais e mostre a média.\n",
        "num1 = float(input(\"Digite a nota: \"))\n",
        "num2 = float(input(\"Digite a nota: \"))\n",
        "num3 = float(input(\"Digite a nota: \"))\n",
        "num4 = float(input(\"Digite a nota: \"))\n",
        "media = (num1 + num2 + num3 + num4)/4\n",
        "\n",
        "print(\"Sua média foi de: \", media)"
      ],
      "metadata": {
        "colab": {
          "base_uri": "https://localhost:8080/"
        },
        "id": "NaiyUjlQ8_C6",
        "outputId": "d8e2ef52-5a4c-4194-b708-bb05976668fa"
      },
      "execution_count": 19,
      "outputs": [
        {
          "output_type": "stream",
          "name": "stdout",
          "text": [
            "Digite a nota: 10\n",
            "Digite a nota: 7\n",
            "Digite a nota: 6\n",
            "Digite a nota: 9\n",
            "Sua média foi de:  8.0\n"
          ]
        }
      ]
    },
    {
      "cell_type": "code",
      "source": [
        "#Faça um programa que converta metros para centimetros.\n",
        "valorMetros = 10\n",
        "converter_para_metros = valorMetros*100\n",
        "\n",
        "print(converter_para_metros)"
      ],
      "metadata": {
        "colab": {
          "base_uri": "https://localhost:8080/"
        },
        "id": "yqYNOMxi-BhM",
        "outputId": "cfddaf93-d100-4ccc-ee5c-7d4d6e17f0c1"
      },
      "execution_count": 20,
      "outputs": [
        {
          "output_type": "stream",
          "name": "stdout",
          "text": [
            "1000\n"
          ]
        }
      ]
    },
    {
      "cell_type": "code",
      "source": [
        "#calcular o raio de um circulo \n",
        "r = float(input('Raio do círculo: '))\n",
        "area = 3.14 * (r ** 2)\n",
        "print ('Área do círculo: ', area)\n"
      ],
      "metadata": {
        "colab": {
          "base_uri": "https://localhost:8080/"
        },
        "id": "fBAHQ3IyEh23",
        "outputId": "f44e2aa7-94ef-4c75-d0ff-9c72cda099ad"
      },
      "execution_count": 21,
      "outputs": [
        {
          "output_type": "stream",
          "name": "stdout",
          "text": [
            "Raio do círculo: 10\n",
            "Área do círculo:  314.0\n"
          ]
        }
      ]
    },
    {
      "cell_type": "code",
      "source": [
        "#Faça um Programa que calcule a área de um quadrado, em seguida mostre o dobro desta área para o usuário..\n",
        "lado = float(input(\"Área de uma quadrado: \"))\n",
        "dobroAreaQuad = (lado * lado)*2\n",
        "\n",
        "print(\"A area do quadrado é :\", dobroAreaQuad)\n"
      ],
      "metadata": {
        "colab": {
          "base_uri": "https://localhost:8080/"
        },
        "id": "vjpfRFSLF3m_",
        "outputId": "1f81bff3-a6f1-47d4-eec9-76c1447363ea"
      },
      "execution_count": 28,
      "outputs": [
        {
          "output_type": "stream",
          "name": "stdout",
          "text": [
            "Área de uma quadrado: 5\n",
            "A area do quadrado é : 50.0\n"
          ]
        }
      ]
    }
  ]
}
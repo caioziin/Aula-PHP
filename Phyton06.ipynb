{
  "nbformat": 4,
  "nbformat_minor": 0,
  "metadata": {
    "colab": {
      "provenance": [],
      "authorship_tag": "ABX9TyMnfZIj6wmEkxYdiDyYk4Yu",
      "include_colab_link": true
    },
    "kernelspec": {
      "name": "python3",
      "display_name": "Python 3"
    },
    "language_info": {
      "name": "python"
    }
  },
  "cells": [
    {
      "cell_type": "markdown",
      "metadata": {
        "id": "view-in-github",
        "colab_type": "text"
      },
      "source": [
        "<a href=\"https://colab.research.google.com/github/caioziin/Aula-PHYTHON/blob/main/Phyton06.ipynb\" target=\"_parent\"><img src=\"https://colab.research.google.com/assets/colab-badge.svg\" alt=\"Open In Colab\"/></a>"
      ]
    },
    {
      "cell_type": "code",
      "execution_count": 1,
      "metadata": {
        "id": "N1Y--h7PrpxT"
      },
      "outputs": [],
      "source": [
        "objeto = ['carro', 'moto', 'caminhao', 'bicicleta']"
      ]
    },
    {
      "cell_type": "code",
      "source": [
        "#Criar uma lista com numeros de 1 a 15\n",
        "numeros = []\n",
        "for num in range(8):\n",
        "  numeros.append(num)\n",
        "\n",
        "numeros"
      ],
      "metadata": {
        "colab": {
          "base_uri": "https://localhost:8080/"
        },
        "id": "RcYKF28cuwQ6",
        "outputId": "b9688883-46a2-470a-d8ed-a479f3f051f6"
      },
      "execution_count": 4,
      "outputs": [
        {
          "output_type": "execute_result",
          "data": {
            "text/plain": [
              "[0, 1, 2, 3, 4, 5, 6, 7]"
            ]
          },
          "metadata": {},
          "execution_count": 4
        }
      ]
    },
    {
      "cell_type": "code",
      "source": [
        "#Para usar biblioteca Random, é preciso importa-la\n",
        "import random\n",
        "#Criar uma lista com tamanho aleatório (entre 0 e 50)\n",
        "nums2 = []\n",
        "for num in range(random.randrange (0, 50)):\n",
        "  nums2.append(num)\n",
        "\n",
        "nums2 "
      ],
      "metadata": {
        "colab": {
          "base_uri": "https://localhost:8080/"
        },
        "id": "2_X2a7S_wb-q",
        "outputId": "349464c8-ee7a-498e-e695-9586bf12b022"
      },
      "execution_count": 12,
      "outputs": [
        {
          "output_type": "execute_result",
          "data": {
            "text/plain": [
              "[0, 1, 2, 3, 4, 5]"
            ]
          },
          "metadata": {},
          "execution_count": 12
        }
      ]
    },
    {
      "cell_type": "code",
      "source": [
        "#(parentesis)Descobrir se um numero é par\n",
        "a = int(input('Digite uma numero: '))\n",
        "if a % 2 == 0:\n",
        " print('É par')\n",
        "else:\n",
        " print('É ímpar')"
      ],
      "metadata": {
        "colab": {
          "base_uri": "https://localhost:8080/"
        },
        "id": "Vt7U_1BSy1do",
        "outputId": "05c1a0b5-456d-4118-d167-10f1fff0fc71"
      },
      "execution_count": 16,
      "outputs": [
        {
          "output_type": "stream",
          "name": "stdout",
          "text": [
            "Digite uma numero: 110\n",
            "É par\n"
          ]
        }
      ]
    },
    {
      "cell_type": "code",
      "source": [
        "#Printar os números pares positivos ate 50\n",
        "numPares = []\n",
        "for num in range(51):\n",
        "  if(num % 2 == 0):\n",
        "   numPares.append(num)\n",
        "numPares"
      ],
      "metadata": {
        "colab": {
          "base_uri": "https://localhost:8080/"
        },
        "id": "xtfG6FVw1K6J",
        "outputId": "3ae1d090-8c16-4000-b2f9-b03fb30a94f5"
      },
      "execution_count": 19,
      "outputs": [
        {
          "output_type": "execute_result",
          "data": {
            "text/plain": [
              "[0,\n",
              " 2,\n",
              " 4,\n",
              " 6,\n",
              " 8,\n",
              " 10,\n",
              " 12,\n",
              " 14,\n",
              " 16,\n",
              " 18,\n",
              " 20,\n",
              " 22,\n",
              " 24,\n",
              " 26,\n",
              " 28,\n",
              " 30,\n",
              " 32,\n",
              " 34,\n",
              " 36,\n",
              " 38,\n",
              " 40,\n",
              " 42,\n",
              " 44,\n",
              " 46,\n",
              " 48,\n",
              " 50]"
            ]
          },
          "metadata": {},
          "execution_count": 19
        }
      ]
    },
    {
      "cell_type": "code",
      "source": [
        "#Retorne a soma dos números de 1 a 100\n",
        "soma = 0\n",
        "\n",
        "for n in range(101):\n",
        "  soma = soma + n\n",
        "\n",
        "soma \n",
        " \n",
        "\n"
      ],
      "metadata": {
        "colab": {
          "base_uri": "https://localhost:8080/"
        },
        "id": "IWHXxC_c3tX5",
        "outputId": "63efc62f-7c56-4253-918f-6195dd6b15f9"
      },
      "execution_count": 35,
      "outputs": [
        {
          "output_type": "execute_result",
          "data": {
            "text/plain": [
              "5050"
            ]
          },
          "metadata": {},
          "execution_count": 35
        }
      ]
    },
    {
      "cell_type": "code",
      "source": [
        "#Criar um programa que lista os números de 1 a 10\n",
        "##Precisamos de um contador!\n",
        "cont = 0 \n",
        "\n",
        "while (cont < 10):\n",
        "  print(cont + 1)\n",
        "  cont += 1"
      ],
      "metadata": {
        "colab": {
          "base_uri": "https://localhost:8080/"
        },
        "id": "69UhShTM8yK_",
        "outputId": "b75611d8-152a-41a4-abc9-df8169bfa9a0"
      },
      "execution_count": 36,
      "outputs": [
        {
          "output_type": "stream",
          "name": "stdout",
          "text": [
            "1\n",
            "2\n",
            "3\n",
            "4\n",
            "5\n",
            "6\n",
            "7\n",
            "8\n",
            "9\n",
            "10\n"
          ]
        }
      ]
    },
    {
      "cell_type": "code",
      "source": [
        "#Pede ao usuário para inserir um número inteiro maior que 1\n",
        "#O programa deve imprimir todos os numeros até o número digitado.\n",
        "cont = 0 \n",
        "numero = int(input('Digite um numero: '))\n",
        "\n",
        "while (cont <= numero):\n",
        " print(cont)\n",
        " cont += 1"
      ],
      "metadata": {
        "colab": {
          "base_uri": "https://localhost:8080/"
        },
        "id": "q1-A7Zzc-LTG",
        "outputId": "8363fb88-c52e-4768-d12c-18a550cdde3a"
      },
      "execution_count": 41,
      "outputs": [
        {
          "output_type": "stream",
          "name": "stdout",
          "text": [
            "Digite um numero: 8\n",
            "0\n",
            "1\n",
            "2\n",
            "3\n",
            "4\n",
            "5\n",
            "6\n",
            "7\n",
            "8\n"
          ]
        }
      ]
    },
    {
      "cell_type": "code",
      "source": [
        "#Lista de compras\n",
        "listCompra = [] \n",
        "\n",
        "item = input('Digite o item: ')\n",
        "\n",
        "while(item != '0'):\n",
        "  listCompra.append(item)\n",
        "  item = input('Digite o item: ')\n",
        "\n",
        "listCompra\n"
      ],
      "metadata": {
        "colab": {
          "base_uri": "https://localhost:8080/"
        },
        "id": "PKdNqm9xCn0M",
        "outputId": "5828cbe3-4175-46bd-bc6d-34d2a16d1680"
      },
      "execution_count": 49,
      "outputs": [
        {
          "name": "stdout",
          "output_type": "stream",
          "text": [
            "Digite o item: ewfewf\n",
            "Digite o item: dsf\n",
            "Digite o item: fdd\n",
            "Digite o item: adsad\n",
            "Digite o item: sadsad\n",
            "Digite o item: 0\n"
          ]
        },
        {
          "output_type": "execute_result",
          "data": {
            "text/plain": [
              "['ewfewf', 'dsf', 'fdd', 'adsad', 'sadsad']"
            ]
          },
          "metadata": {},
          "execution_count": 49
        }
      ]
    }
  ]
}
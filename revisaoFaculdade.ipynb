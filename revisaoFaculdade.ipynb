{
  "nbformat": 4,
  "nbformat_minor": 0,
  "metadata": {
    "colab": {
      "provenance": [],
      "authorship_tag": "ABX9TyPfSMX+GOVX6OBtilH0DzFa",
      "include_colab_link": true
    },
    "kernelspec": {
      "name": "python3",
      "display_name": "Python 3"
    },
    "language_info": {
      "name": "python"
    }
  },
  "cells": [
    {
      "cell_type": "markdown",
      "metadata": {
        "id": "view-in-github",
        "colab_type": "text"
      },
      "source": [
        "<a href=\"https://colab.research.google.com/github/caioziin/Aula-PHYTHON/blob/main/revisaoFaculdade.ipynb\" target=\"_parent\"><img src=\"https://colab.research.google.com/assets/colab-badge.svg\" alt=\"Open In Colab\"/></a>"
      ]
    },
    {
      "cell_type": "code",
      "execution_count": 12,
      "metadata": {
        "colab": {
          "base_uri": "https://localhost:8080/"
        },
        "id": "WrU0mD2aGS96",
        "outputId": "584c2791-8159-4892-9017-8c3c260a9256"
      },
      "outputs": [
        {
          "output_type": "stream",
          "name": "stdout",
          "text": [
            "Digite o valor aqui: 2\n",
            "15% de 2 é 0.3\n"
          ]
        }
      ],
      "source": [
        "#Escreva um codigo que receba um valor inteiro, q receba 15% desse valor.\n",
        "valor = int(input(\"Digite o valor aqui: \"))\n",
        "porcentagem = 15 / 100\n",
        "valorPorcentagem = valor * porcentagem\n",
        "print(\"15% de\", valor, \"é\", valorPorcentagem)"
      ]
    },
    {
      "cell_type": "code",
      "source": [
        "#Calcula o valor total da compra e o valor das parcelas com juros de 1% ao mês.\n",
        "valorCompra = float(input(\"Digite o valor da compra: \"))\n",
        "\n",
        "jurosMensal = 0.01  # Taxa de juros de 1% ao mês\n",
        "numParcelas = 12\n",
        "\n",
        "valorTotal = valorCompra * (1 + jurosMensal * numParcelas)\n",
        "valorParcela = valorTotal / numParcelas\n",
        "\n",
        "print(\"Valor total da compra: R$\", valorTotal)\n",
        "print(\"Valor de cada parcela: R$\", valorParcela)\n"
      ],
      "metadata": {
        "colab": {
          "base_uri": "https://localhost:8080/"
        },
        "id": "Si_v9hUNHqCm",
        "outputId": "564b8f90-d52a-4c07-cfac-71117690a5fc"
      },
      "execution_count": 13,
      "outputs": [
        {
          "output_type": "stream",
          "name": "stdout",
          "text": [
            "Digite o valor da compra: 1200\n",
            "Valor total da compra: R$ 1344.0000000000002\n",
            "Valor de cada parcela: R$ 112.00000000000001\n"
          ]
        }
      ]
    },
    {
      "cell_type": "code",
      "source": [
        "#Escreva um codigo que receba um valor inteiro,  converta em anos , exiba a idade, e informe se ele e de maior ou de menor.\n",
        "valorInteiro = int(input(\"Digite o valor inteiro: \"))\n",
        "\n",
        "idade = valorInteiro\n",
        "maiorDeIdade = idade >= 18\n",
        "\n",
        "print(\"idade\", idade)\n",
        "if maiorDeIdade:\n",
        "  print(\"é maior de idade\")\n",
        "else:\n",
        "  print(\"É de menor\")"
      ],
      "metadata": {
        "colab": {
          "base_uri": "https://localhost:8080/"
        },
        "id": "rlACWoMeKefN",
        "outputId": "226e6d9a-b1e9-4eaa-e411-5817f4c0d87d"
      },
      "execution_count": 18,
      "outputs": [
        {
          "output_type": "stream",
          "name": "stdout",
          "text": [
            "Digite o valor inteiro: 89\n",
            "idade 89\n",
            "é maior de idade\n"
          ]
        }
      ]
    },
    {
      "cell_type": "code",
      "source": [
        "#Escreva um codigo que receba uma valor inteiro,  o primeiro valor vai determinar a quantidade de linhas e colunas, repetindo a palavra FPB nas linhas e colunas\n",
        "valor_inteiro = int(input(\"Digite um valor inteiro: \"))\n",
        "\n",
        "for i in range(valor_inteiro):\n",
        "    for j in range(valor_inteiro):\n",
        "        print(\"FPB\", end=\" \")\n",
        "    print()\n"
      ],
      "metadata": {
        "colab": {
          "base_uri": "https://localhost:8080/"
        },
        "id": "nN334yduLuh4",
        "outputId": "ab28c85d-fcfc-4cbd-d53e-06f6bddac47b"
      },
      "execution_count": 19,
      "outputs": [
        {
          "output_type": "stream",
          "name": "stdout",
          "text": [
            "Digite um valor inteiro: 5\n",
            "FPB FPB FPB FPB FPB \n",
            "FPB FPB FPB FPB FPB \n",
            "FPB FPB FPB FPB FPB \n",
            "FPB FPB FPB FPB FPB \n",
            "FPB FPB FPB FPB FPB \n"
          ]
        }
      ]
    },
    {
      "cell_type": "code",
      "source": [
        "#Codigo prova\n",
        "A = int(input(\"Digite o valor de A: \"))\n",
        "B = int(input(\"Digite o valor de B: \"))\n",
        "C = int(input(\"Digite o valor de C: \"))\n",
        "D = int(input(\"Digite o valor de D: \"))\n",
        "\n",
        "if B > C and D > A and C + D > A + B and C > 0 and D > 0:\n",
        "  print(\"Valores aceitos\")\n",
        "else:\n",
        "  print(\"Valores não aceitos\")\n",
        "\n"
      ],
      "metadata": {
        "colab": {
          "base_uri": "https://localhost:8080/"
        },
        "id": "JL4_wIiuPcRc",
        "outputId": "42cab0fd-ae93-4c9a-e134-a7388a7c68a5"
      },
      "execution_count": 26,
      "outputs": [
        {
          "output_type": "stream",
          "name": "stdout",
          "text": [
            "Digite o valor de A: 1\n",
            "Digite o valor de B: 7\n",
            "Digite o valor de C: 2\n",
            "Digite o valor de D: 9\n",
            "Valores aceitos\n"
          ]
        }
      ]
    }
  ]
}
{
  "nbformat": 4,
  "nbformat_minor": 0,
  "metadata": {
    "colab": {
      "provenance": [],
      "authorship_tag": "ABX9TyNfwmE2vXh3hQGo/+jYrU6W",
      "include_colab_link": true
    },
    "kernelspec": {
      "name": "python3",
      "display_name": "Python 3"
    },
    "language_info": {
      "name": "python"
    }
  },
  "cells": [
    {
      "cell_type": "markdown",
      "metadata": {
        "id": "view-in-github",
        "colab_type": "text"
      },
      "source": [
        "<a href=\"https://colab.research.google.com/github/caioziin/Aula-PHYTHON/blob/main/phyrhon10.ipynb\" target=\"_parent\"><img src=\"https://colab.research.google.com/assets/colab-badge.svg\" alt=\"Open In Colab\"/></a>"
      ]
    },
    {
      "cell_type": "code",
      "execution_count": null,
      "metadata": {
        "colab": {
          "base_uri": "https://localhost:8080/"
        },
        "id": "1EglbH_f71Rv",
        "outputId": "b29ce669-12bd-47ca-c9cf-9146ed9e5124"
      },
      "outputs": [
        {
          "output_type": "execute_result",
          "data": {
            "text/plain": [
              "['ze', 'tiao', 'joaquim', 'julia', 'Ana', 'Zabé', 'Maria']"
            ]
          },
          "metadata": {},
          "execution_count": 3
        }
      ],
      "source": [
        "nomes = [ 'ze', 'tiao', 'joaquim']\n",
        "nomes.append('julia')\n",
        "\n",
        "#vários valores\n",
        "outrosNomes = ['Ana' ,'Zabé' ,'Maria']\n",
        "\n",
        "nomes.extend(outrosNomes)\n",
        "\n",
        "nomes"
      ]
    },
    {
      "cell_type": "code",
      "source": [
        "#Crie uma lista de numeros \n",
        "numeros = [2,4,6,8,7,5]\n",
        "#remova o primeiro numero da lista\n",
        "numeros.remove(numeros[0])\n",
        "#remova o ultimo numero da lista\n",
        "numeros.pop()\n",
        "\n",
        "numeros"
      ],
      "metadata": {
        "colab": {
          "base_uri": "https://localhost:8080/"
        },
        "id": "zXLTJraM9ZIA",
        "outputId": "68b7709d-d9a3-43ef-dbd4-96caaa69d154"
      },
      "execution_count": null,
      "outputs": [
        {
          "output_type": "execute_result",
          "data": {
            "text/plain": [
              "[4, 6, 8, 7]"
            ]
          },
          "metadata": {},
          "execution_count": 4
        }
      ]
    },
    {
      "cell_type": "markdown",
      "source": [
        "-ORDENAÇÃO DE ELEMENTOS\n",
        "\n",
        "º lista.sort( - ordena em ordem "
      ],
      "metadata": {
        "id": "BPP_D-Uq_iYN"
      }
    },
    {
      "cell_type": "code",
      "source": [
        "#1 - Crie uma lista de notas, e exiba-a da menor para maior\n",
        "notas = [2,10,4,7,3,8]\n",
        "nomes = ['Ademar', 'Maristênio', 'Asdrúbal', 'Leo']\n",
        "notas.sort()\n",
        "notas.sort(reverse=True)\n",
        "#2 - Crie uma lista de nomes de frutas e ordene-a em ordem \n",
        "\n",
        "nomes"
      ],
      "metadata": {
        "colab": {
          "base_uri": "https://localhost:8080/"
        },
        "id": "jaADaQtT_m71",
        "outputId": "ad40e228-5980-4fc3-92eb-d01ef05926f6"
      },
      "execution_count": null,
      "outputs": [
        {
          "output_type": "execute_result",
          "data": {
            "text/plain": [
              "['Ademar', 'Maristênio', 'Asdrúbal', 'Leo']"
            ]
          },
          "metadata": {},
          "execution_count": 5
        }
      ]
    },
    {
      "cell_type": "markdown",
      "source": [
        "° Função map() serve para aplicar uma função a cada elemento dispensando o uso  de um loop(for ou while)\n",
        "°map(função,sequencia)\n",
        "°Função filter() serve para filtrar elementos de uma sequencia"
      ],
      "metadata": {
        "id": "E3rm2ZMlBT2G"
      }
    },
    {
      "cell_type": "code",
      "source": [
        "#Exemplo funçaõ map - cria uma nova lista com o dobro \n",
        "numeros = [15,12,6,3]\n",
        "nova_lista = list(map(lambda x : x*2, numeros))\n",
        "nova_lista"
      ],
      "metadata": {
        "colab": {
          "base_uri": "https://localhost:8080/"
        },
        "id": "7gqSiyaACfM_",
        "outputId": "ce19ba88-4932-4622-de1a-615551e3aa93"
      },
      "execution_count": null,
      "outputs": [
        {
          "output_type": "execute_result",
          "data": {
            "text/plain": [
              "[30, 24, 12, 6]"
            ]
          },
          "metadata": {},
          "execution_count": 13
        }
      ]
    },
    {
      "cell_type": "code",
      "source": [
        "#Pegar cada um dos numeros acima e dividir por 3\n",
        "numDivi = list(map(lambda x : x/3, numeros))\n",
        "\n",
        "numDivi"
      ],
      "metadata": {
        "colab": {
          "base_uri": "https://localhost:8080/"
        },
        "id": "rwE58RAHDIo1",
        "outputId": "0e55f42b-34be-493a-8e68-abbbd491af89"
      },
      "execution_count": null,
      "outputs": [
        {
          "output_type": "execute_result",
          "data": {
            "text/plain": [
              "[5.0, 4.0, 2.0, 1.0]"
            ]
          },
          "metadata": {},
          "execution_count": 14
        }
      ]
    },
    {
      "cell_type": "code",
      "source": [
        "#Pega cada numero e some 2 \n",
        "numSoma = list(map(lambda x : x+2, numeros))\n",
        "\n",
        "numSoma"
      ],
      "metadata": {
        "colab": {
          "base_uri": "https://localhost:8080/"
        },
        "id": "e4kj0Kn2EHpt",
        "outputId": "d65def2c-30b2-4f1e-ee81-8c3055bb3e53"
      },
      "execution_count": null,
      "outputs": [
        {
          "output_type": "execute_result",
          "data": {
            "text/plain": [
              "[17, 14, 8, 5]"
            ]
          },
          "metadata": {},
          "execution_count": 15
        }
      ]
    },
    {
      "cell_type": "code",
      "source": [
        "#Exemplo função filter - a partir de uma lista de nomes \n",
        "nomes = ['josé', 'joaquim', 'caio', 'paulo', 'rodrigo', 'lewandowski']\n",
        "\n",
        "newlist = list(filter(lambda x : len(x)>5, nomes))\n",
        "\n",
        "newlist"
      ],
      "metadata": {
        "colab": {
          "base_uri": "https://localhost:8080/"
        },
        "id": "oEKHYWLXFBQN",
        "outputId": "1cc1f284-b3f3-4b7a-dd96-0b2620d64e35"
      },
      "execution_count": null,
      "outputs": [
        {
          "output_type": "execute_result",
          "data": {
            "text/plain": [
              "['joaquim', 'rodrigo', 'lewandowski']"
            ]
          },
          "metadata": {},
          "execution_count": 22
        }
      ]
    },
    {
      "cell_type": "code",
      "source": [
        "#Crie uma lista de notas, imprime apenas as maiores que 6\n",
        "notas = [5,6,8,9,12]\n",
        "\n",
        "newlist = list(filter(lambda x : x>6, notas))\n",
        "\n",
        "newlist"
      ],
      "metadata": {
        "colab": {
          "base_uri": "https://localhost:8080/"
        },
        "id": "3QWUSWTRF9xW",
        "outputId": "5e4921d9-3c95-4a46-8b16-01aeed22620a"
      },
      "execution_count": null,
      "outputs": [
        {
          "output_type": "execute_result",
          "data": {
            "text/plain": [
              "[8, 9, 12]"
            ]
          },
          "metadata": {},
          "execution_count": 28
        }
      ]
    },
    {
      "cell_type": "code",
      "source": [
        "#Dado uma lista de numeros retorne o quadrado de cada numero\n",
        "notas = [5,2,9,4]\n",
        "\n",
        "newlist = list(map(lambda x : x*x, notas))\n",
        "\n",
        "newlist"
      ],
      "metadata": {
        "colab": {
          "base_uri": "https://localhost:8080/"
        },
        "id": "1MXecqPsIqw_",
        "outputId": "539906c8-e1c4-461c-8a0f-0b6427a2c568"
      },
      "execution_count": null,
      "outputs": [
        {
          "output_type": "execute_result",
          "data": {
            "text/plain": [
              "[25, 4, 81, 16]"
            ]
          },
          "metadata": {},
          "execution_count": 33
        }
      ]
    },
    {
      "cell_type": "code",
      "source": [
        "#Dado uma lista de nomes, retorne uma lista contendo o tamanho de cada nome\n",
        "nomes = ['caio', 'paulo','julia', 'karol', 'Arnold', 'Hermanito']\n",
        "newlist = list(map(lambda x : len(x), nomes))\n",
        "\n",
        "newlist"
      ],
      "metadata": {
        "colab": {
          "base_uri": "https://localhost:8080/"
        },
        "id": "1E58vRpJJteV",
        "outputId": "186d1da6-5bfe-4742-dd6c-8f9f7413a89c"
      },
      "execution_count": 2,
      "outputs": [
        {
          "output_type": "execute_result",
          "data": {
            "text/plain": [
              "[4, 5, 5, 5, 6, 9]"
            ]
          },
          "metadata": {},
          "execution_count": 2
        }
      ]
    },
    {
      "cell_type": "code",
      "source": [
        "#Dada uma lista de numeros, retorne uma lista contendo apenas os numeros pares\n",
        "numeros = [2,5,9,7,8,4]\n",
        "newlist = list(map(lambda x : x%2==0, numeros))\n",
        "\n",
        "newlist"
      ],
      "metadata": {
        "id": "GVdWDZ06OEsa",
        "outputId": "bb037be5-bd9b-43b1-c114-7eba32f670b8",
        "colab": {
          "base_uri": "https://localhost:8080/"
        }
      },
      "execution_count": 3,
      "outputs": [
        {
          "output_type": "execute_result",
          "data": {
            "text/plain": [
              "[True, False, False, False, True, True]"
            ]
          },
          "metadata": {},
          "execution_count": 3
        }
      ]
    }
  ]
}
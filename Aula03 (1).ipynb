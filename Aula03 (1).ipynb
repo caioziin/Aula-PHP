{
  "nbformat": 4,
  "nbformat_minor": 0,
  "metadata": {
    "colab": {
      "provenance": []
    },
    "kernelspec": {
      "name": "python3",
      "display_name": "Python 3"
    },
    "language_info": {
      "name": "python"
    }
  },
  "cells": [
    {
      "cell_type": "code",
      "execution_count": 4,
      "metadata": {
        "colab": {
          "base_uri": "https://localhost:8080/"
        },
        "id": "fknu7t_DoWgK",
        "outputId": "a7055009-3975-48ee-ec5b-23fd57b1d43b"
      },
      "outputs": [
        {
          "output_type": "stream",
          "name": "stdout",
          "text": [
            "True\n",
            "True\n",
            "False\n",
            "True\n",
            "False\n",
            "True\n"
          ]
        }
      ],
      "source": [
        "#Tipos Boleanos \n",
        "print(100 == (50+50))\n",
        "print(100 >= (50+50))\n",
        "print(100 > (50+50))\n",
        "print(100 <= (50+50))\n",
        "print(100 != 50+50)\n",
        "print(100 != 99)"
      ]
    },
    {
      "cell_type": "code",
      "source": [
        "#Se a idade for maior ou igual a 16, exiba: Pode tirar habilitação\n",
        "idade = int(input('digite a idade:'))\n",
        "if(idade >= 16):\n",
        "  print('não pode tirar a habilitação')\n",
        "else:\n",
        "  print(\"Não pode tirar a habilitação\")"
      ],
      "metadata": {
        "colab": {
          "base_uri": "https://localhost:8080/"
        },
        "id": "Czxlyj7Qpnb6",
        "outputId": "922ce648-bf3a-481b-aa8e-67c1cf9141bc"
      },
      "execution_count": 8,
      "outputs": [
        {
          "output_type": "stream",
          "name": "stdout",
          "text": [
            "digite a idade:55\n",
            "não pode tirar a habilitação\n"
          ]
        }
      ]
    },
    {
      "cell_type": "code",
      "source": [
        "#Se for do sexo feminino \"F\" e tiver 55 anos ou mais,pode se aposentar \n",
        "#Se for do sexo Masculino \"M\", so se aposenta com 60 anos \n",
        "sexo = 'M'\n",
        "idade= 68 \n",
        "if (sexo == 'F' and idade >= 55):\n",
        "   print('pode se aposentar')\n",
        "elif(sexo == 'M' and idade >=60):\n",
        "   print ('Pode se aposentar')\n",
        "else:\n",
        "  print('Ainda nao pode')"
      ],
      "metadata": {
        "colab": {
          "base_uri": "https://localhost:8080/"
        },
        "id": "Ls9Wt-z6sFM1",
        "outputId": "424a6542-c37d-4ec5-ac3d-d4b7f5ba0bec"
      },
      "execution_count": 9,
      "outputs": [
        {
          "output_type": "stream",
          "name": "stdout",
          "text": [
            "Pode se aposentar\n"
          ]
        }
      ]
    },
    {
      "cell_type": "code",
      "source": [
        "#Se for do sexo feminino \"F\" e tiver 55 anos ou mais,pode se aposentar \n",
        "#Se for do sexo Masculino \"M\", so se aposenta com 60 anos \n",
        "sexo = input('insira o sexo, m (masculino) ou f (feminino): ')\n",
        "idade= int(input(\"digite sua idade : \"))\n",
        "if((sexo == \"F\" and idade >= 55) or (sexo == \"M\" and idade >=60)):\n",
        "   print('pode se aposentar')\n",
        "else:\n",
        "  print('Ainda nao pode')"
      ],
      "metadata": {
        "colab": {
          "base_uri": "https://localhost:8080/"
        },
        "id": "Wb8BbnTktlA9",
        "outputId": "7a6d73d3-2468-46fd-83f7-f26038425f27"
      },
      "execution_count": 20,
      "outputs": [
        {
          "output_type": "stream",
          "name": "stdout",
          "text": [
            "insira o sexo, m (masculino) ou f (feminino): m\n",
            "digite sua idade : 25\n",
            "Ainda nao pode\n"
          ]
        }
      ]
    },
    {
      "cell_type": "code",
      "source": [
        "#solicite três numeros A,B, e C\n",
        "#imprima na tela se A+B é menor que C.\n",
        "a = int(input('Digite o primeiro numero:' ))\n",
        "b = int(input('Digite o segundo numero:' ))\n",
        "c = int(input('Digite o terceiro numero:' ))\n",
        "if(a+b < c):\n",
        " print('É menor')\n",
        "elif(a + b == c):\n",
        " print('é igual')\n",
        "else:\n",
        "  print('é maior')"
      ],
      "metadata": {
        "id": "UPnzsr-DwvJM"
      },
      "execution_count": null,
      "outputs": []
    },
    {
      "cell_type": "code",
      "source": [
        "#Escreva um algoritmo que recebe 2 valores inteiros se escreve na tela qual é o maior.\n",
        "\n",
        "A = int(input('Digite o num 1:' ))\n",
        "B = int(input('Digite o num 2:'))\n",
        "if(A > B):\n",
        " print('é maior')\n",
        "elif(B > A):\n",
        " print('é maior')\n",
        "else:\n",
        " print('são iguais')\n"
      ],
      "metadata": {
        "id": "2IcVGIsiy78j"
      },
      "execution_count": null,
      "outputs": []
    }
  ]
}
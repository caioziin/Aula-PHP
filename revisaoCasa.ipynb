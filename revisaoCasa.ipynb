{
  "nbformat": 4,
  "nbformat_minor": 0,
  "metadata": {
    "colab": {
      "provenance": [],
      "authorship_tag": "ABX9TyPyH/SqGJx5RkbNZSOb4Twm",
      "include_colab_link": true
    },
    "kernelspec": {
      "name": "python3",
      "display_name": "Python 3"
    },
    "language_info": {
      "name": "python"
    }
  },
  "cells": [
    {
      "cell_type": "markdown",
      "metadata": {
        "id": "view-in-github",
        "colab_type": "text"
      },
      "source": [
        "<a href=\"https://colab.research.google.com/github/caioziin/Aula-PHYTHON/blob/main/revisaoCasa.ipynb\" target=\"_parent\"><img src=\"https://colab.research.google.com/assets/colab-badge.svg\" alt=\"Open In Colab\"/></a>"
      ]
    },
    {
      "cell_type": "code",
      "execution_count": 3,
      "metadata": {
        "colab": {
          "base_uri": "https://localhost:8080/"
        },
        "id": "h9NeAdBq7iEG",
        "outputId": "d4adefb5-d2d0-470a-8dd8-52b9d90bc6f8"
      },
      "outputs": [
        {
          "output_type": "stream",
          "name": "stdout",
          "text": [
            "Digite seu nome: caio\n",
            "É uma prazer te conhecer,  caio\n"
          ]
        }
      ],
      "source": [
        "#Peça para o programa digitar o seu nome,e apresentar alguma mensagem.\n",
        "name = input(\"Digite seu nome: \")\n",
        "print(\"É uma prazer te conhecer, \", name)"
      ]
    },
    {
      "cell_type": "code",
      "source": [
        "#Soma\n",
        "num1 = int(input(\"Digite uma valor: \"))\n",
        "num2 = int(input(\"Digite uma valor: \"))\n",
        "soma = (num1 + num2)\n",
        "print(soma)"
      ],
      "metadata": {
        "colab": {
          "base_uri": "https://localhost:8080/"
        },
        "id": "6aunMNzw8kGr",
        "outputId": "59533a14-ef55-49ee-800d-24c6b8491ab5"
      },
      "execution_count": 4,
      "outputs": [
        {
          "output_type": "stream",
          "name": "stdout",
          "text": [
            "Digite uma valor: 5\n",
            "Digite uma valor: 5\n",
            "10\n"
          ]
        }
      ]
    },
    {
      "cell_type": "code",
      "source": [
        "#Codigo prova\n",
        "A = int(input(\"Digite o valor de A: \"))\n",
        "B = int(input(\"Digite o valor de B: \"))\n",
        "C = int(input(\"Digite o valor de C: \"))\n",
        "D = int(input(\"Digite o valor de D: \"))\n",
        "\n",
        "if B > C and D > A and C + D > A + B and C > 0 and D > 0:\n",
        "  print(\"Valores aceitos\")\n",
        "else:\n",
        "  print(\"Valores não aceitos\")\n",
        "\n",
        "\n"
      ],
      "metadata": {
        "colab": {
          "base_uri": "https://localhost:8080/"
        },
        "id": "8iyaWLoL_UDF",
        "outputId": "6d3f96a9-c4fc-4faa-e9b9-bfcbf1bc899e"
      },
      "execution_count": 7,
      "outputs": [
        {
          "output_type": "stream",
          "name": "stdout",
          "text": [
            "Digite o valor de A: 1\n",
            "Digite o valor de B: 7\n",
            "Digite o valor de C: 2\n",
            "Digite o valor de D: 9\n",
            "Valores aceitos\n"
          ]
        }
      ]
    }
  ]
}
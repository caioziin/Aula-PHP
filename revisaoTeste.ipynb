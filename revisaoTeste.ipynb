{
  "nbformat": 4,
  "nbformat_minor": 0,
  "metadata": {
    "colab": {
      "provenance": [],
      "authorship_tag": "ABX9TyP/4DbfyfCSrlHtNzhgfzKo",
      "include_colab_link": true
    },
    "kernelspec": {
      "name": "python3",
      "display_name": "Python 3"
    },
    "language_info": {
      "name": "python"
    }
  },
  "cells": [
    {
      "cell_type": "markdown",
      "metadata": {
        "id": "view-in-github",
        "colab_type": "text"
      },
      "source": [
        "<a href=\"https://colab.research.google.com/github/caioziin/Aula-PHYTHON/blob/main/revisaoTeste.ipynb\" target=\"_parent\"><img src=\"https://colab.research.google.com/assets/colab-badge.svg\" alt=\"Open In Colab\"/></a>"
      ]
    },
    {
      "cell_type": "code",
      "source": [
        "#Calcula o valor total da compra e o valor das parcelas com juros de 1% ao mês.\n",
        "valorCompra = float(input(\"Digite o valor da compra: \"))\n",
        "juros = 0.01\n",
        "numParcelas = 12\n",
        "valorTotal = valorCompra * (1 + juros * numParcelas)\n",
        "valorParcelas = valorTotal / numParcelas\n",
        "\n",
        "print(valorTotal)\n",
        "print(valorParcelas)"
      ],
      "metadata": {
        "colab": {
          "base_uri": "https://localhost:8080/"
        },
        "id": "VmGRm4c3hvam",
        "outputId": "cf291ce6-938d-4ce2-c39c-95a02690311c"
      },
      "execution_count": 40,
      "outputs": [
        {
          "output_type": "stream",
          "name": "stdout",
          "text": [
            "Digite o valor da compra: 1200\n",
            "1344.0000000000002\n",
            "112.00000000000001\n"
          ]
        }
      ]
    },
    {
      "cell_type": "code",
      "source": [
        "#Escreva um codigo que receba um valor inteiro,  converta em anos , exiba a idade, e informe se ele e de maior ou de menor.\n",
        "valorInteiro = int(input(\"Digite sua idade: \"))\n",
        "idade = valorInteiro\n",
        "maiorDeIdade = idade >= 18\n",
        "print(\"idade\", idade)\n",
        "\n",
        "if maiorDeIdade:\n",
        "  print(\"É de maior\")\n",
        "else: \n",
        "  print('É de menor')"
      ],
      "metadata": {
        "colab": {
          "base_uri": "https://localhost:8080/"
        },
        "id": "IKvN7uBticE3",
        "outputId": "a0650a93-ab78-43a2-e09a-0f819c232e26"
      },
      "execution_count": 43,
      "outputs": [
        {
          "output_type": "stream",
          "name": "stdout",
          "text": [
            "Digite sua idade: 18\n",
            "idade 18\n",
            "É de maior\n"
          ]
        }
      ]
    },
    {
      "cell_type": "code",
      "source": [
        "#Escreva um codigo que receba uma valor inteiro,  o primeiro valor vai determinar a quantidade de linhas e colunas, repetindo a palavra FPB nas linhas e colunas\n",
        "valorInteiro = int(input(\"Digite um valor inteiro: \"))\n",
        "\n",
        "for i in range(valorInteiro):\n",
        "  for j in range(valorInteiro):\n",
        "    print(\"MSR\", end = \" \")\n",
        "  print()"
      ],
      "metadata": {
        "colab": {
          "base_uri": "https://localhost:8080/"
        },
        "id": "KQHjlgQFjDyu",
        "outputId": "625749e8-879f-40c8-94a3-a539cb033071"
      },
      "execution_count": 44,
      "outputs": [
        {
          "output_type": "stream",
          "name": "stdout",
          "text": [
            "Digite um valor inteiro: 5\n",
            "MSR MSR MSR MSR MSR \n",
            "MSR MSR MSR MSR MSR \n",
            "MSR MSR MSR MSR MSR \n",
            "MSR MSR MSR MSR MSR \n",
            "MSR MSR MSR MSR MSR \n"
          ]
        }
      ]
    },
    {
      "cell_type": "code",
      "source": [
        "A = int(input(\"Digite uma valor inteiro: \"))\n",
        "B = int(input(\"Digite uma valor inteiro: \"))\n",
        "C = int(input(\"Digite uma valor inteiro: \"))\n",
        "D = int(input(\"Digite uma valor inteiro: ------------------------------------------------------\"))\n",
        "\n",
        "if B > C and D > A and C + D > A + B and C > 0 and D > 0:\n",
        "  print(\"Valores aceitos\")\n",
        "else:\n",
        "  print(\"Valores não aceitos\")"
      ],
      "metadata": {
        "colab": {
          "base_uri": "https://localhost:8080/"
        },
        "id": "-YJZfF2EjXS_",
        "outputId": "1a7e2687-1b89-44a0-be8f-40d172f6af56"
      },
      "execution_count": 46,
      "outputs": [
        {
          "output_type": "stream",
          "name": "stdout",
          "text": [
            "Digite uma valor inteiro: 1\n",
            "Digite uma valor inteiro: 7\n",
            "Digite uma valor inteiro: 2\n",
            "Digite uma valor inteiro: 9\n",
            "Valores aceitos\n"
          ]
        }
      ]
    },
    {
      "cell_type": "code",
      "source": [
        "#Escreva um codigo que receba um valor inteiro, q receba 15% desse valor.\n",
        "valorInteiro = int(input(\"Digite um valor aqui: \"))\n",
        "porcetagem = 15 / 100\n",
        "valorTotal = valorInteiro * porcetagem\n",
        "\n",
        "print(valorTotal, valor)"
      ],
      "metadata": {
        "colab": {
          "base_uri": "https://localhost:8080/"
        },
        "id": "ehuEBUYGlouZ",
        "outputId": "f3d63530-6c36-4121-de1b-54733b278b1e"
      },
      "execution_count": 50,
      "outputs": [
        {
          "output_type": "stream",
          "name": "stdout",
          "text": [
            "Digite um valor aqui: 15\n",
            "2.25 10\n"
          ]
        }
      ]
    }
  ]
}